{
  "nbformat": 4,
  "nbformat_minor": 0,
  "metadata": {
    "colab": {
      "provenance": []
    },
    "kernelspec": {
      "name": "python3",
      "display_name": "Python 3"
    },
    "language_info": {
      "name": "python"
    },
    "accelerator": "GPU",
    "gpuClass": "standard"
  },
  "cells": [
    {
      "cell_type": "markdown",
      "source": [
        "Name : Maurya Vijayaramchandran \n",
        "\n",
        "Email: maurya.mvr@gmail.com \n",
        "\n",
        "Project: implementation of Resnet 50"
      ],
      "metadata": {
        "id": "vRBKCtmZgITS"
      }
    },
    {
      "cell_type": "markdown",
      "source": [
        "Import Libraries"
      ],
      "metadata": {
        "id": "aHh6UhoGgVLC"
      }
    },
    {
      "cell_type": "code",
      "execution_count": null,
      "metadata": {
        "id": "9UPiVu7I1lic"
      },
      "outputs": [],
      "source": [
        "import torch \n",
        "import torch.nn as nn"
      ]
    },
    {
      "cell_type": "markdown",
      "source": [
        "First lay out the skeletal structure of residual block"
      ],
      "metadata": {
        "id": "Htd4xJ6miljd"
      }
    },
    {
      "cell_type": "code",
      "source": [
        "class block(nn.Module):\n",
        "      \"\"\"\n",
        "    Residual block class with 3 convolutional layers.\n",
        "\n",
        "    Args:\n",
        "    - in_channels (int): Number of input channels.\n",
        "    - out_channels (int): Number of output channels.\n",
        "    - identity_downsample (nn.Module): Module for down-sampling the identity path, \n",
        "        if necessary to match dimensions with the output.\n",
        "    - stride (int): Stride value for the second convolutional layer. Default is 1.\n",
        "    \"\"\"\n",
        "  def __init__(self, in_channels, out_channels, identity_downsample = None, stride=1):\n",
        "    super().__init__()\n",
        "    self.expansion = 4\n",
        "    self.conv1 = nn.Conv2d(in_channels, \n",
        "                           out_channels, \n",
        "                           kernel_size=1,\n",
        "                           stride=1, \n",
        "                           padding=0,\n",
        "                           bias= False)\n",
        "    self.bn1 = nn.BatchNorm2d(out_channels)\n",
        "    self.conv2 = nn.Conv2d(out_channels, \n",
        "                           out_channels, \n",
        "                           kernel_size=3, \n",
        "                           stride=stride,\n",
        "                           padding=1,\n",
        "                           bias=False)\n",
        "    self.bn2 = nn.BatchNorm2d(out_channels)\n",
        "    self.conv3 = nn.Conv2d(out_channels, \n",
        "                           out_channels*self.expansion, \n",
        "                           kernel_size=1, \n",
        "                           stride=1, \n",
        "                           padding=0,\n",
        "                           bias=False)\n",
        "    self.bn3 = nn.BatchNorm2d(out_channels*self.expansion)\n",
        "    self.relu = nn.ReLU()\n",
        "    self.identity_downsample = identity_downsample\n",
        "  def forward(self,x):\n",
        "        \"\"\"\n",
        "        Forward pass through the residual block.\n",
        "\n",
        "        Args:\n",
        "        - x (torch.Tensor): Input tensor.\n",
        "\n",
        "        Returns:\n",
        "        - Output tensor after passing through the residual block.\n",
        "        \"\"\"\n",
        "    identity = x\n",
        "    x = self.conv1(x)\n",
        "    x= self.bn1(x)\n",
        "    x= self.relu(x)\n",
        "    x = self.conv2(x)\n",
        "    x= self.bn2(x)\n",
        "    x= self.relu(x)\n",
        "    x = self.conv3(x)\n",
        "    x= self.bn3(x)\n",
        "    if self.identity_downsample is not None:\n",
        "      identity = self.identity_downsample(identity)\n",
        "    x+= identity \n",
        "    x= self.relu(x)\n",
        "    return x"
      ],
      "metadata": {
        "id": "SGu9m3KJ2Mp3"
      },
      "execution_count": null,
      "outputs": []
    },
    {
      "cell_type": "markdown",
      "source": [
        "Next layout the skeletal structure of constructor block"
      ],
      "metadata": {
        "id": "TgGb6F79iumn"
      }
    },
    {
      "cell_type": "code",
      "source": [
        "class MyResNet(nn.Module):\n",
        "  \"\"\"\n",
        "  Args:\n",
        "    block (nn.Module): The block module to be used for constructing the ResNet.\n",
        "    layers (list): A list containing the number of blocks to be used in each layer.\n",
        "    image_channels (int): The number of input channels of the image.\n",
        "    num_classes (int): The number of classes for the output.\n",
        "\n",
        "  Attributes:\n",
        "    in_channels (int): The number of input channels for the current layer.\n",
        "    conv1 (nn.Conv2d): The convolutional layer for the first layer.\n",
        "    bn1 (nn.BatchNorm2d): The batch normalization layer for the first layer.\n",
        "    relu (nn.ReLU): The activation layer for the network.\n",
        "    maxpool (nn.MaxPool2d): The max pooling layer for the network.\n",
        "    layer1 (nn.Sequential): The sequence of layers for the first layer.\n",
        "    layer2 (nn.Sequential): The sequence of layers for the second layer.\n",
        "    layer3 (nn.Sequential): The sequence of layers for the third layer.\n",
        "    layer4 (nn.Sequential): The sequence of layers for the fourth layer.\n",
        "    avgpool (nn.AdaptiveAvgPool2d): The adaptive average pooling layer for the network.\n",
        "    linear1 (nn.Linear): The linear layer for the output.\n",
        "\n",
        "  Methods:\n",
        "  forward(x): Defines the computation performed at every call, receives an input tensor x and returns the output.\n",
        "  make_layer(block, num_of_residual_blocks, out_channels, stride): Constructs a layer consisting of a given number \n",
        "        of residual blocks.\n",
        "\n",
        "\"\"\"\n",
        "  def __init__(self, block, layers, image_channels, num_classes):\n",
        "    super().__init__()\n",
        "    self.in_channels = 64\n",
        "    self.conv1 = nn.Conv2d(\n",
        "        image_channels, 64,kernel_size =7, stride=2, padding=3,bias=False)\n",
        "    self.bn1 = nn.BatchNorm2d(64)\n",
        "    self.relu = nn.ReLU()\n",
        "    self.maxpool = nn.MaxPool2d(kernel_size=3, stride=2, padding = 1)\n",
        "\n",
        "    self.layer1 = self.make_layer(block, layers[0], out_channels=64, stride=1)\n",
        "    self.layer2 = self.make_layer(block, layers[1], out_channels=128, stride=2)\n",
        "    self.layer3 = self.make_layer(block, layers[2], out_channels=256, stride=2)\n",
        "    self.layer4 = self.make_layer(block, layers[3], out_channels=512, stride=2)\n",
        "    self.avgpool = nn.AdaptiveAvgPool2d((1,1))\n",
        "    self.linear1 = nn.Linear(512*4, num_classes)\n",
        "\n",
        "  def forward(self,x):\n",
        "       \"\"\"\n",
        "    Defines the computation performed at every call, receives an input tensor x and returns the output.\n",
        "\n",
        "    Args:\n",
        "        x (torch.Tensor): The input tensor.\n",
        "\n",
        "    Returns:\n",
        "        torch.Tensor: The output tensor.\n",
        "    \"\"\"\n",
        "    x = self.conv1(x)\n",
        "    x = self.bn1(x)\n",
        "    x = self.relu(x)\n",
        "    x = self.maxpool(x)\n",
        "\n",
        "    x = self.layer1(x)\n",
        "    x = self.layer2(x)\n",
        "    x= self.layer3(x)\n",
        "    x = self.layer4(x)\n",
        "    x = self.avgpool(x)\n",
        "    x = x.reshape(x.shape[0],-1)\n",
        "    x = self.linear1(x)\n",
        "    return x\n",
        "\n",
        "\n",
        "  def make_layer(self,block, num_of_residual_blocks, out_channels, stride):\n",
        "    \"\"\"\n",
        "Args:\n",
        "block (nn.Module): the basic residual block to be repeated.\n",
        "num_of_residual_blocks (int): number of residual blocks to create in this layer.\n",
        "out_channels (int): number of output channels for this layer.\n",
        "stride (int): stride for the first block in the layer.\n",
        "\n",
        "Returns:\n",
        "nn.Sequential: a sequence of residual blocks with a downsampling layer at the beginning if stride is not 1 or the input and output channels don't match. \"\"\"\n",
        "    identity_downsample = None \n",
        "    layers = []\n",
        "    if stride != 1 or self.in_channels != out_channels*4:\n",
        "      identity_downsample = nn.Sequential(\n",
        "          nn.Conv2d(\n",
        "              self.in_channels, \n",
        "              out_channels*4, \n",
        "              kernel_size=1, \n",
        "              stride = stride,\n",
        "              bias=False),\n",
        "                                          nn.BatchNorm2d(out_channels*4))\n",
        "      layers.append(\n",
        "          block(self.in_channels, \n",
        "                out_channels, \n",
        "                identity_downsample, \n",
        "                stride))\n",
        "      self.in_channels = out_channels*4\n",
        "\n",
        "      for i in range(num_of_residual_blocks-1):\n",
        "        layers.append(block(self.in_channels, out_channels))\n",
        "      return nn.Sequential(*layers)\n"
      ],
      "metadata": {
        "id": "nB1pZd6H3xVc"
      },
      "execution_count": null,
      "outputs": []
    },
    {
      "cell_type": "markdown",
      "source": [
        "This code can be modified to implement the other versions of resnet as well."
      ],
      "metadata": {
        "id": "x3CUH6Vaiz4f"
      }
    },
    {
      "cell_type": "code",
      "source": [
        "def My_Resnet_50(img_channels=3, num_classes = 1000):\n",
        "  return MyResNet(block, [3,4,6,3], img_channels, num_classes)"
      ],
      "metadata": {
        "id": "LwBqdh_o7sZB"
      },
      "execution_count": null,
      "outputs": []
    },
    {
      "cell_type": "code",
      "source": [
        "model = My_Resnet_50()"
      ],
      "metadata": {
        "id": "y2t2BcdY8ply"
      },
      "execution_count": null,
      "outputs": []
    },
    {
      "cell_type": "code",
      "source": [
        "model.state_dict"
      ],
      "metadata": {
        "colab": {
          "base_uri": "https://localhost:8080/"
        },
        "id": "SZZ-H5MB-M3c",
        "outputId": "c3b49cf9-e7b1-470f-bccc-d395d052fe4e"
      },
      "execution_count": null,
      "outputs": [
        {
          "output_type": "execute_result",
          "data": {
            "text/plain": [
              "<bound method Module.state_dict of MyResNet(\n",
              "  (conv1): Conv2d(3, 64, kernel_size=(7, 7), stride=(2, 2), padding=(3, 3), bias=False)\n",
              "  (bn1): BatchNorm2d(64, eps=1e-05, momentum=0.1, affine=True, track_running_stats=True)\n",
              "  (relu): ReLU()\n",
              "  (maxpool): MaxPool2d(kernel_size=3, stride=2, padding=1, dilation=1, ceil_mode=False)\n",
              "  (layer1): Sequential(\n",
              "    (0): block(\n",
              "      (conv1): Conv2d(64, 64, kernel_size=(1, 1), stride=(1, 1), bias=False)\n",
              "      (bn1): BatchNorm2d(64, eps=1e-05, momentum=0.1, affine=True, track_running_stats=True)\n",
              "      (conv2): Conv2d(64, 64, kernel_size=(3, 3), stride=(1, 1), padding=(1, 1), bias=False)\n",
              "      (bn2): BatchNorm2d(64, eps=1e-05, momentum=0.1, affine=True, track_running_stats=True)\n",
              "      (conv3): Conv2d(64, 256, kernel_size=(1, 1), stride=(1, 1), bias=False)\n",
              "      (bn3): BatchNorm2d(256, eps=1e-05, momentum=0.1, affine=True, track_running_stats=True)\n",
              "      (relu): ReLU()\n",
              "      (identity_downsample): Sequential(\n",
              "        (0): Conv2d(64, 256, kernel_size=(1, 1), stride=(1, 1), bias=False)\n",
              "        (1): BatchNorm2d(256, eps=1e-05, momentum=0.1, affine=True, track_running_stats=True)\n",
              "      )\n",
              "    )\n",
              "    (1): block(\n",
              "      (conv1): Conv2d(256, 64, kernel_size=(1, 1), stride=(1, 1), bias=False)\n",
              "      (bn1): BatchNorm2d(64, eps=1e-05, momentum=0.1, affine=True, track_running_stats=True)\n",
              "      (conv2): Conv2d(64, 64, kernel_size=(3, 3), stride=(1, 1), padding=(1, 1), bias=False)\n",
              "      (bn2): BatchNorm2d(64, eps=1e-05, momentum=0.1, affine=True, track_running_stats=True)\n",
              "      (conv3): Conv2d(64, 256, kernel_size=(1, 1), stride=(1, 1), bias=False)\n",
              "      (bn3): BatchNorm2d(256, eps=1e-05, momentum=0.1, affine=True, track_running_stats=True)\n",
              "      (relu): ReLU()\n",
              "    )\n",
              "    (2): block(\n",
              "      (conv1): Conv2d(256, 64, kernel_size=(1, 1), stride=(1, 1), bias=False)\n",
              "      (bn1): BatchNorm2d(64, eps=1e-05, momentum=0.1, affine=True, track_running_stats=True)\n",
              "      (conv2): Conv2d(64, 64, kernel_size=(3, 3), stride=(1, 1), padding=(1, 1), bias=False)\n",
              "      (bn2): BatchNorm2d(64, eps=1e-05, momentum=0.1, affine=True, track_running_stats=True)\n",
              "      (conv3): Conv2d(64, 256, kernel_size=(1, 1), stride=(1, 1), bias=False)\n",
              "      (bn3): BatchNorm2d(256, eps=1e-05, momentum=0.1, affine=True, track_running_stats=True)\n",
              "      (relu): ReLU()\n",
              "    )\n",
              "  )\n",
              "  (layer2): Sequential(\n",
              "    (0): block(\n",
              "      (conv1): Conv2d(256, 128, kernel_size=(1, 1), stride=(1, 1), bias=False)\n",
              "      (bn1): BatchNorm2d(128, eps=1e-05, momentum=0.1, affine=True, track_running_stats=True)\n",
              "      (conv2): Conv2d(128, 128, kernel_size=(3, 3), stride=(2, 2), padding=(1, 1), bias=False)\n",
              "      (bn2): BatchNorm2d(128, eps=1e-05, momentum=0.1, affine=True, track_running_stats=True)\n",
              "      (conv3): Conv2d(128, 512, kernel_size=(1, 1), stride=(1, 1), bias=False)\n",
              "      (bn3): BatchNorm2d(512, eps=1e-05, momentum=0.1, affine=True, track_running_stats=True)\n",
              "      (relu): ReLU()\n",
              "      (identity_downsample): Sequential(\n",
              "        (0): Conv2d(256, 512, kernel_size=(1, 1), stride=(2, 2), bias=False)\n",
              "        (1): BatchNorm2d(512, eps=1e-05, momentum=0.1, affine=True, track_running_stats=True)\n",
              "      )\n",
              "    )\n",
              "    (1): block(\n",
              "      (conv1): Conv2d(512, 128, kernel_size=(1, 1), stride=(1, 1), bias=False)\n",
              "      (bn1): BatchNorm2d(128, eps=1e-05, momentum=0.1, affine=True, track_running_stats=True)\n",
              "      (conv2): Conv2d(128, 128, kernel_size=(3, 3), stride=(1, 1), padding=(1, 1), bias=False)\n",
              "      (bn2): BatchNorm2d(128, eps=1e-05, momentum=0.1, affine=True, track_running_stats=True)\n",
              "      (conv3): Conv2d(128, 512, kernel_size=(1, 1), stride=(1, 1), bias=False)\n",
              "      (bn3): BatchNorm2d(512, eps=1e-05, momentum=0.1, affine=True, track_running_stats=True)\n",
              "      (relu): ReLU()\n",
              "    )\n",
              "    (2): block(\n",
              "      (conv1): Conv2d(512, 128, kernel_size=(1, 1), stride=(1, 1), bias=False)\n",
              "      (bn1): BatchNorm2d(128, eps=1e-05, momentum=0.1, affine=True, track_running_stats=True)\n",
              "      (conv2): Conv2d(128, 128, kernel_size=(3, 3), stride=(1, 1), padding=(1, 1), bias=False)\n",
              "      (bn2): BatchNorm2d(128, eps=1e-05, momentum=0.1, affine=True, track_running_stats=True)\n",
              "      (conv3): Conv2d(128, 512, kernel_size=(1, 1), stride=(1, 1), bias=False)\n",
              "      (bn3): BatchNorm2d(512, eps=1e-05, momentum=0.1, affine=True, track_running_stats=True)\n",
              "      (relu): ReLU()\n",
              "    )\n",
              "    (3): block(\n",
              "      (conv1): Conv2d(512, 128, kernel_size=(1, 1), stride=(1, 1), bias=False)\n",
              "      (bn1): BatchNorm2d(128, eps=1e-05, momentum=0.1, affine=True, track_running_stats=True)\n",
              "      (conv2): Conv2d(128, 128, kernel_size=(3, 3), stride=(1, 1), padding=(1, 1), bias=False)\n",
              "      (bn2): BatchNorm2d(128, eps=1e-05, momentum=0.1, affine=True, track_running_stats=True)\n",
              "      (conv3): Conv2d(128, 512, kernel_size=(1, 1), stride=(1, 1), bias=False)\n",
              "      (bn3): BatchNorm2d(512, eps=1e-05, momentum=0.1, affine=True, track_running_stats=True)\n",
              "      (relu): ReLU()\n",
              "    )\n",
              "  )\n",
              "  (layer3): Sequential(\n",
              "    (0): block(\n",
              "      (conv1): Conv2d(512, 256, kernel_size=(1, 1), stride=(1, 1), bias=False)\n",
              "      (bn1): BatchNorm2d(256, eps=1e-05, momentum=0.1, affine=True, track_running_stats=True)\n",
              "      (conv2): Conv2d(256, 256, kernel_size=(3, 3), stride=(2, 2), padding=(1, 1), bias=False)\n",
              "      (bn2): BatchNorm2d(256, eps=1e-05, momentum=0.1, affine=True, track_running_stats=True)\n",
              "      (conv3): Conv2d(256, 1024, kernel_size=(1, 1), stride=(1, 1), bias=False)\n",
              "      (bn3): BatchNorm2d(1024, eps=1e-05, momentum=0.1, affine=True, track_running_stats=True)\n",
              "      (relu): ReLU()\n",
              "      (identity_downsample): Sequential(\n",
              "        (0): Conv2d(512, 1024, kernel_size=(1, 1), stride=(2, 2), bias=False)\n",
              "        (1): BatchNorm2d(1024, eps=1e-05, momentum=0.1, affine=True, track_running_stats=True)\n",
              "      )\n",
              "    )\n",
              "    (1): block(\n",
              "      (conv1): Conv2d(1024, 256, kernel_size=(1, 1), stride=(1, 1), bias=False)\n",
              "      (bn1): BatchNorm2d(256, eps=1e-05, momentum=0.1, affine=True, track_running_stats=True)\n",
              "      (conv2): Conv2d(256, 256, kernel_size=(3, 3), stride=(1, 1), padding=(1, 1), bias=False)\n",
              "      (bn2): BatchNorm2d(256, eps=1e-05, momentum=0.1, affine=True, track_running_stats=True)\n",
              "      (conv3): Conv2d(256, 1024, kernel_size=(1, 1), stride=(1, 1), bias=False)\n",
              "      (bn3): BatchNorm2d(1024, eps=1e-05, momentum=0.1, affine=True, track_running_stats=True)\n",
              "      (relu): ReLU()\n",
              "    )\n",
              "    (2): block(\n",
              "      (conv1): Conv2d(1024, 256, kernel_size=(1, 1), stride=(1, 1), bias=False)\n",
              "      (bn1): BatchNorm2d(256, eps=1e-05, momentum=0.1, affine=True, track_running_stats=True)\n",
              "      (conv2): Conv2d(256, 256, kernel_size=(3, 3), stride=(1, 1), padding=(1, 1), bias=False)\n",
              "      (bn2): BatchNorm2d(256, eps=1e-05, momentum=0.1, affine=True, track_running_stats=True)\n",
              "      (conv3): Conv2d(256, 1024, kernel_size=(1, 1), stride=(1, 1), bias=False)\n",
              "      (bn3): BatchNorm2d(1024, eps=1e-05, momentum=0.1, affine=True, track_running_stats=True)\n",
              "      (relu): ReLU()\n",
              "    )\n",
              "    (3): block(\n",
              "      (conv1): Conv2d(1024, 256, kernel_size=(1, 1), stride=(1, 1), bias=False)\n",
              "      (bn1): BatchNorm2d(256, eps=1e-05, momentum=0.1, affine=True, track_running_stats=True)\n",
              "      (conv2): Conv2d(256, 256, kernel_size=(3, 3), stride=(1, 1), padding=(1, 1), bias=False)\n",
              "      (bn2): BatchNorm2d(256, eps=1e-05, momentum=0.1, affine=True, track_running_stats=True)\n",
              "      (conv3): Conv2d(256, 1024, kernel_size=(1, 1), stride=(1, 1), bias=False)\n",
              "      (bn3): BatchNorm2d(1024, eps=1e-05, momentum=0.1, affine=True, track_running_stats=True)\n",
              "      (relu): ReLU()\n",
              "    )\n",
              "    (4): block(\n",
              "      (conv1): Conv2d(1024, 256, kernel_size=(1, 1), stride=(1, 1), bias=False)\n",
              "      (bn1): BatchNorm2d(256, eps=1e-05, momentum=0.1, affine=True, track_running_stats=True)\n",
              "      (conv2): Conv2d(256, 256, kernel_size=(3, 3), stride=(1, 1), padding=(1, 1), bias=False)\n",
              "      (bn2): BatchNorm2d(256, eps=1e-05, momentum=0.1, affine=True, track_running_stats=True)\n",
              "      (conv3): Conv2d(256, 1024, kernel_size=(1, 1), stride=(1, 1), bias=False)\n",
              "      (bn3): BatchNorm2d(1024, eps=1e-05, momentum=0.1, affine=True, track_running_stats=True)\n",
              "      (relu): ReLU()\n",
              "    )\n",
              "    (5): block(\n",
              "      (conv1): Conv2d(1024, 256, kernel_size=(1, 1), stride=(1, 1), bias=False)\n",
              "      (bn1): BatchNorm2d(256, eps=1e-05, momentum=0.1, affine=True, track_running_stats=True)\n",
              "      (conv2): Conv2d(256, 256, kernel_size=(3, 3), stride=(1, 1), padding=(1, 1), bias=False)\n",
              "      (bn2): BatchNorm2d(256, eps=1e-05, momentum=0.1, affine=True, track_running_stats=True)\n",
              "      (conv3): Conv2d(256, 1024, kernel_size=(1, 1), stride=(1, 1), bias=False)\n",
              "      (bn3): BatchNorm2d(1024, eps=1e-05, momentum=0.1, affine=True, track_running_stats=True)\n",
              "      (relu): ReLU()\n",
              "    )\n",
              "  )\n",
              "  (layer4): Sequential(\n",
              "    (0): block(\n",
              "      (conv1): Conv2d(1024, 512, kernel_size=(1, 1), stride=(1, 1), bias=False)\n",
              "      (bn1): BatchNorm2d(512, eps=1e-05, momentum=0.1, affine=True, track_running_stats=True)\n",
              "      (conv2): Conv2d(512, 512, kernel_size=(3, 3), stride=(2, 2), padding=(1, 1), bias=False)\n",
              "      (bn2): BatchNorm2d(512, eps=1e-05, momentum=0.1, affine=True, track_running_stats=True)\n",
              "      (conv3): Conv2d(512, 2048, kernel_size=(1, 1), stride=(1, 1), bias=False)\n",
              "      (bn3): BatchNorm2d(2048, eps=1e-05, momentum=0.1, affine=True, track_running_stats=True)\n",
              "      (relu): ReLU()\n",
              "      (identity_downsample): Sequential(\n",
              "        (0): Conv2d(1024, 2048, kernel_size=(1, 1), stride=(2, 2), bias=False)\n",
              "        (1): BatchNorm2d(2048, eps=1e-05, momentum=0.1, affine=True, track_running_stats=True)\n",
              "      )\n",
              "    )\n",
              "    (1): block(\n",
              "      (conv1): Conv2d(2048, 512, kernel_size=(1, 1), stride=(1, 1), bias=False)\n",
              "      (bn1): BatchNorm2d(512, eps=1e-05, momentum=0.1, affine=True, track_running_stats=True)\n",
              "      (conv2): Conv2d(512, 512, kernel_size=(3, 3), stride=(1, 1), padding=(1, 1), bias=False)\n",
              "      (bn2): BatchNorm2d(512, eps=1e-05, momentum=0.1, affine=True, track_running_stats=True)\n",
              "      (conv3): Conv2d(512, 2048, kernel_size=(1, 1), stride=(1, 1), bias=False)\n",
              "      (bn3): BatchNorm2d(2048, eps=1e-05, momentum=0.1, affine=True, track_running_stats=True)\n",
              "      (relu): ReLU()\n",
              "    )\n",
              "    (2): block(\n",
              "      (conv1): Conv2d(2048, 512, kernel_size=(1, 1), stride=(1, 1), bias=False)\n",
              "      (bn1): BatchNorm2d(512, eps=1e-05, momentum=0.1, affine=True, track_running_stats=True)\n",
              "      (conv2): Conv2d(512, 512, kernel_size=(3, 3), stride=(1, 1), padding=(1, 1), bias=False)\n",
              "      (bn2): BatchNorm2d(512, eps=1e-05, momentum=0.1, affine=True, track_running_stats=True)\n",
              "      (conv3): Conv2d(512, 2048, kernel_size=(1, 1), stride=(1, 1), bias=False)\n",
              "      (bn3): BatchNorm2d(2048, eps=1e-05, momentum=0.1, affine=True, track_running_stats=True)\n",
              "      (relu): ReLU()\n",
              "    )\n",
              "  )\n",
              "  (avgpool): AdaptiveAvgPool2d(output_size=(1, 1))\n",
              "  (linear1): Linear(in_features=2048, out_features=1000, bias=True)\n",
              ")>"
            ]
          },
          "metadata": {},
          "execution_count": 89
        }
      ]
    },
    {
      "cell_type": "code",
      "source": [
        "def test():\n",
        "  x = torch.randn(2,3,224,224)\n",
        "  y = model(x).to(\"cuda\")\n",
        "  print(y.shape)"
      ],
      "metadata": {
        "id": "F1PxsXEh8Z5N"
      },
      "execution_count": null,
      "outputs": []
    },
    {
      "cell_type": "code",
      "source": [
        "test()"
      ],
      "metadata": {
        "colab": {
          "base_uri": "https://localhost:8080/"
        },
        "id": "Kr33nfCX-peD",
        "outputId": "0c5e73db-6c59-4008-d494-2d1e10cce29c"
      },
      "execution_count": null,
      "outputs": [
        {
          "output_type": "stream",
          "name": "stdout",
          "text": [
            "torch.Size([2, 1000])\n"
          ]
        }
      ]
    }
  ]
}